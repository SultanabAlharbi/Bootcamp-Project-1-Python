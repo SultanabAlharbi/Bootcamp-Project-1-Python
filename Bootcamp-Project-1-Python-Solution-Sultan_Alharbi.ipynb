{
 "cells": [
  {
   "cell_type": "code",
   "execution_count": 34,
   "id": "4b41a719",
   "metadata": {},
   "outputs": [
    {
     "data": {
      "text/plain": [
       "{'camry': 100000,\n",
       " 'corola': 80000,\n",
       " 'yaris': 60000,\n",
       " 'pathfinder': 140000.99,\n",
       " 'sunny': 80000}"
      ]
     },
     "execution_count": 34,
     "metadata": {},
     "output_type": "execute_result"
    }
   ],
   "source": [
    "cars={\"camry\":100000,\"corola\":80000,\"yaris\":60000,\"pathfinder\":140000.99,\"sunny\":80000} ## Original Cars Data Dict\n",
    "\n",
    "cars"
   ]
  },
  {
   "cell_type": "code",
   "execution_count": 35,
   "id": "0cd100ae",
   "metadata": {},
   "outputs": [],
   "source": [
    "## This Func To Add items to my cars dic\n",
    "def add_car (car_name,price): \n",
    "    cars[car_name.lower()]=price  ## with add .lower method\n",
    "    print(f\"You have successfully added the {car_name} with the new price {price} !\")\n",
    "    return cars # to Show the data after the Update"
   ]
  },
  {
   "cell_type": "code",
   "execution_count": 36,
   "id": "cf21c5e0",
   "metadata": {},
   "outputs": [],
   "source": [
    "## This Func To remove items from my cars dict\n",
    "def remove_car (car_name):\n",
    "    del cars[car_name.lower()] ## with add .lower method\n",
    "    print(f\"You have successfully deleted the {car_name} !\")\n",
    "    return cars # to Show the data after the Update"
   ]
  },
  {
   "cell_type": "code",
   "execution_count": 37,
   "id": "3fb4f783",
   "metadata": {},
   "outputs": [
    {
     "name": "stdout",
     "output_type": "stream",
     "text": [
      "You have successfully added the Accord with the new price 110000 !\n"
     ]
    },
    {
     "data": {
      "text/plain": [
       "{'camry': 100000,\n",
       " 'corola': 80000,\n",
       " 'yaris': 60000,\n",
       " 'pathfinder': 140000.99,\n",
       " 'sunny': 80000,\n",
       " 'accord': 110000}"
      ]
     },
     "execution_count": 37,
     "metadata": {},
     "output_type": "execute_result"
    }
   ],
   "source": [
    "add_car(\"Accord\",110000) ##  Add New Items With 2 arg (car_name=\"Accord\"),(price=110000) = (Accord,110000)"
   ]
  },
  {
   "cell_type": "code",
   "execution_count": 38,
   "id": "c035ca7d",
   "metadata": {},
   "outputs": [
    {
     "name": "stdout",
     "output_type": "stream",
     "text": [
      "You have successfully deleted the Accord !\n"
     ]
    },
    {
     "data": {
      "text/plain": [
       "{'camry': 100000,\n",
       " 'corola': 80000,\n",
       " 'yaris': 60000,\n",
       " 'pathfinder': 140000.99,\n",
       " 'sunny': 80000}"
      ]
     },
     "execution_count": 38,
     "metadata": {},
     "output_type": "execute_result"
    }
   ],
   "source": [
    "remove_car(\"Accord\") ## Remove specific items from the dictionary"
   ]
  },
  {
   "cell_type": "code",
   "execution_count": 39,
   "id": "f35b6e3c",
   "metadata": {},
   "outputs": [
    {
     "name": "stdout",
     "output_type": "stream",
     "text": [
      "Please select a car from this list ['camry', 'corola', 'yaris', 'pathfinder', 'sunny'] to inquire about its price Or enter 'stop' to stop query: PATHFINDER\n",
      "\n",
      "For 'pathfinder' the price is: $140000.99\n",
      "Please select a car from this list ['camry', 'corola', 'yaris', 'pathfinder', 'sunny'] to inquire about its price Or enter 'stop' to stop query: aaaaaaaaaaaaaaaaaaaaaaa\n",
      "\n",
      "That was not from the list. Please try again from this list: ['camry', 'corola', 'yaris', 'pathfinder', 'sunny']\n",
      "Please select a car from this list ['camry', 'corola', 'yaris', 'pathfinder', 'sunny'] to inquire about its price Or enter 'stop' to stop query: SToP\n"
     ]
    }
   ],
   "source": [
    "to_lower = lambda x: x.lower() ## Create lambda function to convert to lowercase\n",
    "while True:\n",
    "    user = input(f\"Please select a car from this list {[names for names in cars.keys()]} to inquire about its price Or enter 'stop' to stop query: \")\n",
    "    user = to_lower(user)\n",
    "    if user in cars.keys():\n",
    "        print(f\"\\nFor '{user}' the price is: ${cars[user]}\")\n",
    "    elif user == \"stop\":\n",
    "        break\n",
    "    elif user not in cars.keys():\n",
    "        print(f\"\\nThat was not from the list. Please try again from this list: {[names for names in cars.keys()]}\")"
   ]
  },
  {
   "cell_type": "code",
   "execution_count": null,
   "id": "8bbf7246",
   "metadata": {},
   "outputs": [],
   "source": []
  }
 ],
 "metadata": {
  "kernelspec": {
   "display_name": "Python 3 (ipykernel)",
   "language": "python",
   "name": "python3"
  },
  "language_info": {
   "codemirror_mode": {
    "name": "ipython",
    "version": 3
   },
   "file_extension": ".py",
   "mimetype": "text/x-python",
   "name": "python",
   "nbconvert_exporter": "python",
   "pygments_lexer": "ipython3",
   "version": "3.9.12"
  }
 },
 "nbformat": 4,
 "nbformat_minor": 5
}
